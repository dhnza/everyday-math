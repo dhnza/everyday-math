{
 "cells": [
  {
   "cell_type": "code",
   "execution_count": 1,
   "id": "d65c8dee",
   "metadata": {},
   "outputs": [],
   "source": [
    "import numpy as np\n",
    "import pandas as pd\n",
    "import matplotlib.pyplot as plt\n",
    "from sympy.ntheory import factorint"
   ]
  },
  {
   "cell_type": "markdown",
   "id": "dfc747f9",
   "metadata": {},
   "source": [
    "# Problem"
   ]
  },
  {
   "cell_type": "markdown",
   "id": "a92f2709",
   "metadata": {},
   "source": [
    "Given an integer $n$ and $m$ sets $S_1, S_2, \\dotsc, S_m$, how many different ways can we split up the prime factors of $n$ into the sets $S_1, S_2, \\dotsc S_m$, where we allow empty sets (or equivalently assume all sets always contain 1)?\n",
    "\n",
    "In particular, which integers less than some bound $N$ have the largest number of partitions for a fixed $m$?\n",
    "\n",
    "This is related to [multiplicative partitions](https://en.wikipedia.org/wiki/Multiplicative_partition), but we constrain the number of partitions to a fixed number $m$."
   ]
  },
  {
   "cell_type": "markdown",
   "id": "c4b19f49",
   "metadata": {},
   "source": [
    "## Case $m = 2$"
   ]
  },
  {
   "cell_type": "code",
   "execution_count": 2,
   "id": "2ef5b613",
   "metadata": {},
   "outputs": [],
   "source": [
    "def num_binary_partitions(n: int) -> int:\n",
    "    \"\"\"\n",
    "    Computes the number of binary (m=2) partitions for an integer n.\n",
    "    \n",
    "    Given the prime factorization \n",
    "      n = p_1^e_1 * p_2^e_2 * ... * p_k^e_k\n",
    "    the number of binary partitions is just\n",
    "        (e_1 + 1) * (e_2 + 1) * ... * (e_k + 1)\n",
    "    since for each prime factor p_{i,j} (i.e. including multiplicites) \n",
    "    we can choose whether or not p_{i,j} is in S_1\n",
    "    \"\"\"\n",
    "    factors = factorint(n)\n",
    "    return int(np.prod([e + 1 for e in factors.values()]))\n",
    "\n",
    "def binary_partition_ranking(N: int) -> list[tuple[int, int]]:\n",
    "    \"\"\"\n",
    "    Computes the number of binary partitions for all integers in [1, N]\n",
    "    and returns a ranked list of such integers.\n",
    "    \"\"\"\n",
    "    ranked = []\n",
    "    for n in range(1, N+1):\n",
    "        npart = num_binary_partitions(n)\n",
    "        ranked.append((n, npart))\n",
    "    return sorted(ranked, key=lambda p: -p[1])"
   ]
  },
  {
   "cell_type": "code",
   "execution_count": 3,
   "id": "22089c86",
   "metadata": {},
   "outputs": [
    {
     "data": {
      "text/html": [
       "<div>\n",
       "<style scoped>\n",
       "    .dataframe tbody tr th:only-of-type {\n",
       "        vertical-align: middle;\n",
       "    }\n",
       "\n",
       "    .dataframe tbody tr th {\n",
       "        vertical-align: top;\n",
       "    }\n",
       "\n",
       "    .dataframe thead th {\n",
       "        text-align: right;\n",
       "    }\n",
       "</style>\n",
       "<table border=\"1\" class=\"dataframe\">\n",
       "  <thead>\n",
       "    <tr style=\"text-align: right;\">\n",
       "      <th></th>\n",
       "      <th>n</th>\n",
       "      <th>npart</th>\n",
       "    </tr>\n",
       "  </thead>\n",
       "  <tbody>\n",
       "    <tr>\n",
       "      <th>0</th>\n",
       "      <td>840</td>\n",
       "      <td>32</td>\n",
       "    </tr>\n",
       "    <tr>\n",
       "      <th>1</th>\n",
       "      <td>720</td>\n",
       "      <td>30</td>\n",
       "    </tr>\n",
       "    <tr>\n",
       "      <th>2</th>\n",
       "      <td>960</td>\n",
       "      <td>28</td>\n",
       "    </tr>\n",
       "    <tr>\n",
       "      <th>3</th>\n",
       "      <td>900</td>\n",
       "      <td>27</td>\n",
       "    </tr>\n",
       "    <tr>\n",
       "      <th>4</th>\n",
       "      <td>360</td>\n",
       "      <td>24</td>\n",
       "    </tr>\n",
       "    <tr>\n",
       "      <th>...</th>\n",
       "      <td>...</td>\n",
       "      <td>...</td>\n",
       "    </tr>\n",
       "    <tr>\n",
       "      <th>995</th>\n",
       "      <td>977</td>\n",
       "      <td>2</td>\n",
       "    </tr>\n",
       "    <tr>\n",
       "      <th>996</th>\n",
       "      <td>983</td>\n",
       "      <td>2</td>\n",
       "    </tr>\n",
       "    <tr>\n",
       "      <th>997</th>\n",
       "      <td>991</td>\n",
       "      <td>2</td>\n",
       "    </tr>\n",
       "    <tr>\n",
       "      <th>998</th>\n",
       "      <td>997</td>\n",
       "      <td>2</td>\n",
       "    </tr>\n",
       "    <tr>\n",
       "      <th>999</th>\n",
       "      <td>1</td>\n",
       "      <td>1</td>\n",
       "    </tr>\n",
       "  </tbody>\n",
       "</table>\n",
       "<p>1000 rows × 2 columns</p>\n",
       "</div>"
      ],
      "text/plain": [
       "       n  npart\n",
       "0    840     32\n",
       "1    720     30\n",
       "2    960     28\n",
       "3    900     27\n",
       "4    360     24\n",
       "..   ...    ...\n",
       "995  977      2\n",
       "996  983      2\n",
       "997  991      2\n",
       "998  997      2\n",
       "999    1      1\n",
       "\n",
       "[1000 rows x 2 columns]"
      ]
     },
     "execution_count": 3,
     "metadata": {},
     "output_type": "execute_result"
    }
   ],
   "source": [
    "N = 1000\n",
    "ranked = binary_partition_ranking(N)\n",
    "pd.DataFrame(ranked, columns=['n', 'npart'])"
   ]
  },
  {
   "cell_type": "code",
   "execution_count": 4,
   "id": "05533046",
   "metadata": {},
   "outputs": [
    {
     "data": {
      "text/plain": [
       "{2: 3, 3: 1, 5: 1, 7: 1}"
      ]
     },
     "execution_count": 4,
     "metadata": {},
     "output_type": "execute_result"
    }
   ],
   "source": [
    "factorint(ranked[0][0])"
   ]
  },
  {
   "cell_type": "markdown",
   "id": "fee503ec",
   "metadata": {},
   "source": [
    "Intuitively, in order to maximize the number of binary partitions, we want to maximize the number of unique prime factors, since each will at double the total. \n",
    "\n",
    "In other words, $M\\times2$ grows faster than $M\\times\\frac{e_i+2}{e_i+1}$ for $e_i > 0$, where $M$ is the current total and in the first case we are adding a new prime factor, and the second we are increasing the exponent of the $i$-th prime factor.\n",
    "\n",
    "For example, $2^5 = 32$ has 6 partitions, but $2\\times3\\times5 = 30$ has $2^3 = 8$ partitions. \n",
    "\n",
    "However, we are constrained to numbers $n \\le N$. So once we have found the largest number $n \\le N$ with unique prime factors, the next best thing is to add factors of 2 to make keep $n$ as small as possible.\n",
    "\n",
    "This explains why, for $N=1000$, the number with the most binary partitions is\n",
    "$$\n",
    "n = 840 = 2^3 \\times 3 \\times 5 \\times 7\n",
    "$$"
   ]
  },
  {
   "cell_type": "code",
   "execution_count": 5,
   "id": "4cccc645",
   "metadata": {},
   "outputs": [],
   "source": [
    "def visualize_num_binary_partitions(N):\n",
    "    xs = np.arange(1, N+1)\n",
    "    ys = [ num_binary_partitions(i) for i in range(1, N+1) ]\n",
    "    \n",
    "    # Draw plot\n",
    "    plt.scatter(xs, ys, s=5)\n",
    "    plt.ylabel('npart')\n",
    "    plt.xlabel('n')"
   ]
  },
  {
   "cell_type": "code",
   "execution_count": 6,
   "id": "aecb296d",
   "metadata": {},
   "outputs": [
    {
     "data": {
      "image/png": "[encoded data removed]",
      "text/plain": [
       "<Figure size 640x480 with 1 Axes>"
      ]
     },
     "metadata": {},
     "output_type": "display_data"
    }
   ],
   "source": [
    "visualize_num_binary_partitions(1000)"
   ]
  },
  {
   "cell_type": "markdown",
   "id": "2e07e7c7",
   "metadata": {},
   "source": [
    "A pattern of horizontal lines emerges:\n",
    "- `npart = 1`: 1 is the only number that can only be partitioned in 1 way\n",
    "- `npart = 2`: prime numbers\n",
    "- `npart = 3`: squares of primes ($n=p^2$)\n",
    "- `npart = 4`: products of 2 primes ($n=pq$) and cubes of primes ($n=p^3$)\n",
    "- `npart = 5`: primes to the 4th power ($n=p^4$)\n",
    "- `npart = 6`: numbers of the form $n=p^5$ and $n=pq^2$\n",
    "- and so on..."
   ]
  },
  {
   "cell_type": "markdown",
   "id": "b4e477b0",
   "metadata": {},
   "source": [
    "This raises another question: given a number $n$ with $B$ binary partitions, what are the possible prime factorizations of $n$ (up to the primes themselves, we only care about the number of unique primes and their multiplicities)?\n",
    "\n",
    "For example, if $B$ is itself prime, then $n = p^{B-1}$ (for some prime $p$) is the only possible prime factorization of $n$. This explains the gaps in the figure above for `npart = 11, 13, ...` since $2^{11} = 2048 > 1000$."
   ]
  },
  {
   "cell_type": "code",
   "execution_count": 7,
   "id": "fe6d0f7a",
   "metadata": {},
   "outputs": [],
   "source": [
    "def visualize_max_binary_partitions(N):\n",
    "    ranked = binary_partition_ranking(N)\n",
    "    xs = np.arange(1, N+1)\n",
    "    ys = np.zeros(N)\n",
    "    \n",
    "    # Build list of maximum binary paritions\n",
    "    idx = 0\n",
    "    for i in range(N-1, -1, -1):\n",
    "        while (idx < N-1) and (ranked[idx][0] > i):\n",
    "            idx += 1\n",
    "        ys[i] = ranked[idx][0]\n",
    "        \n",
    "    # Draw plot\n",
    "    plt.plot(xs, ys)\n",
    "    plt.ylim(0, N)\n",
    "    plt.xlim(0, N)\n",
    "    plt.ylabel('n')\n",
    "    plt.xlabel('N')\n",
    "    \n",
    "    # Add point labels\n",
    "    unique, idxs = np.unique(ys, return_index=True)\n",
    "    for x, y in zip(xs[idxs], ys[idxs]):\n",
    "        label = f'{int(y)}'\n",
    "        plt.annotate(label, # this is the text\n",
    "                     (x,y), # these are the coordinates to position the label\n",
    "                     textcoords=\"offset points\", # how to position the text\n",
    "                     xytext=(0,3), # distance from text to points (x,y)\n",
    "                     ha='center') # horizontal alignment can be left, right or center"
   ]
  },
  {
   "cell_type": "code",
   "execution_count": 8,
   "id": "3b14179b",
   "metadata": {},
   "outputs": [
    {
     "data": {
      "image/png": "[encoded data removed]",
      "text/plain": [
       "<Figure size 640x480 with 1 Axes>"
      ]
     },
     "metadata": {},
     "output_type": "display_data"
    },
    {
     "data": {
      "image/png": "[encoded data removed]",
      "text/plain": [
       "<Figure size 640x480 with 1 Axes>"
      ]
     },
     "metadata": {},
     "output_type": "display_data"
    }
   ],
   "source": [
    "visualize_max_binary_partitions(100)\n",
    "plt.figure()\n",
    "visualize_max_binary_partitions(1000)"
   ]
  },
  {
   "cell_type": "markdown",
   "id": "70d1acfe",
   "metadata": {},
   "source": [
    "It's no coincidence that a circle has 360 degrees! 😉"
   ]
  }
 ],
 "metadata": {
  "kernelspec": {
   "display_name": "Python 3 (ipykernel)",
   "language": "python",
   "name": "python3"
  },
  "language_info": {
   "codemirror_mode": {
    "name": "ipython",
    "version": 3
   },
   "file_extension": ".py",
   "mimetype": "text/x-python",
   "name": "python",
   "nbconvert_exporter": "python",
   "pygments_lexer": "ipython3",
   "version": "3.10.6"
  }
 },
 "nbformat": 4,
 "nbformat_minor": 5
}
